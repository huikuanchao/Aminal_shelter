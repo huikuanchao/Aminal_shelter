{
 "cells": [
  {
   "cell_type": "code",
   "execution_count": 1,
   "metadata": {
    "collapsed": true
   },
   "outputs": [],
   "source": [
    "import  numpy as np\n",
    "import pandas as pd\n",
    "import  matplotlib.pyplot as plt\n",
    "from sklearn import linear_model, datasets\n",
    "from sklearn import svm\n",
    "from sklearn.tree import DecisionTreeClassifier\n",
    "from sklearn.ensemble import AdaBoostClassifier"
   ]
  },
  {
   "cell_type": "code",
   "execution_count": 3,
   "metadata": {
    "collapsed": true
   },
   "outputs": [],
   "source": [
    "df_tr = pd.read_csv('train.csv')\n",
    "df_tt = pd.read_csv('test.csv')"
   ]
  },
  {
   "cell_type": "code",
   "execution_count": 4,
   "metadata": {
    "collapsed": false
   },
   "outputs": [
    {
     "data": {
      "text/plain": [
       "AnimalID          26729\n",
       "Name              19038\n",
       "DateTime          26729\n",
       "OutcomeType       26729\n",
       "OutcomeSubtype    13117\n",
       "AnimalType        26729\n",
       "SexuponOutcome    26728\n",
       "AgeuponOutcome    26711\n",
       "Breed             26729\n",
       "Color             26729\n",
       "dtype: int64"
      ]
     },
     "execution_count": 4,
     "metadata": {},
     "output_type": "execute_result"
    }
   ],
   "source": [
    "df_tr.count()"
   ]
  },
  {
   "cell_type": "code",
   "execution_count": 210,
   "metadata": {
    "collapsed": false
   },
   "outputs": [
    {
     "data": {
      "text/plain": [
       "array(['Summer', 'Cheyenne', 'Gus', ..., 'Doogie', 'Caicos', 'Gusto'], dtype=object)"
      ]
     },
     "execution_count": 210,
     "metadata": {},
     "output_type": "execute_result"
    }
   ],
   "source": [
    "df_tt.Name.unique()"
   ]
  },
  {
   "cell_type": "code",
   "execution_count": 9,
   "metadata": {
    "collapsed": false
   },
   "outputs": [],
   "source": [
    "sex_dict   =   df_tr.loc[(df_tr.AnimalType == 'Cat' )&(df_tr.SexuponOutcome.notnull() > 0)  ].SexuponOutcome.unique()\n",
    "bread_dict = df_tr.loc[(df_tr.AnimalType == 'Cat' )&(df_tr.Breed.notnull() > 0)  ].Breed.unique()\n",
    "color_dict = df_tr.loc[(df_tr.AnimalType == 'Cat')  &(df_tr.Color.notnull() > 0)].Color.unique()"
   ]
  },
  {
   "cell_type": "code",
   "execution_count": 6,
   "metadata": {
    "collapsed": false
   },
   "outputs": [],
   "source": [
    "age_dict = df_tr.loc[(df_tr.AnimalType == 'Cat') &(df_tr.AgeuponOutcome.notnull() > 0) ].AgeuponOutcome.unique()"
   ]
  },
  {
   "cell_type": "code",
   "execution_count": 7,
   "metadata": {
    "collapsed": false
   },
   "outputs": [],
   "source": [
    "out_dict = df_tr.loc[(df_tr.AnimalType == 'Cat') &(df_tr.OutcomeType.notnull() > 0) ].OutcomeType.unique()\n"
   ]
  },
  {
   "cell_type": "markdown",
   "metadata": {},
   "source": [
    "# Try to predict outcome using  SVM"
   ]
  },
  {
   "cell_type": "code",
   "execution_count": 8,
   "metadata": {
    "collapsed": false
   },
   "outputs": [],
   "source": [
    "def str_to_ind(row, in_str ,in_dict):\n",
    "    if np.where(in_dict == row[in_str])[0].size > 0:\n",
    "        return np.where(in_dict == row[in_str])[0][0]\n",
    "    else:\n",
    "        return -1\n",
    "\n",
    "def age_to_float(row,in_str, in_dict):\n",
    "    if np.where(in_dict == row[in_str])[0].size > 0:\n",
    "        tmp_list = row[in_str].split()\n",
    "        if tmp_list[1] == 'year' or tmp_list[1] == 'years' :\n",
    "            return float(tmp_list[0])*1.0\n",
    "        elif tmp_list[1] == 'month' or  tmp_list[1] == 'months':\n",
    "            return float(tmp_list[0])*1.0/12.0\n",
    "        else:\n",
    "            return float(tmp_list[0])*1.0/52.1249\n",
    "    else:\n",
    "        return -1.0\n",
    "            "
   ]
  },
  {
   "cell_type": "code",
   "execution_count": 10,
   "metadata": {
    "collapsed": false
   },
   "outputs": [],
   "source": [
    "df_tr['ind_outcome'] = df_tr.apply(lambda row: str_to_ind(row,'OutcomeType',out_dict), axis=1)\n",
    "#df_tt['ind_outcome'] = df_tt.apply(lambda row: str_to_ind(row,'OutcomeType',out_dict), axis=1)"
   ]
  },
  {
   "cell_type": "code",
   "execution_count": 11,
   "metadata": {
    "collapsed": false
   },
   "outputs": [],
   "source": [
    "df_tr['ind_age'] = df_tr.apply(lambda row: age_to_float(row,'AgeuponOutcome',age_dict), axis=1)"
   ]
  },
  {
   "cell_type": "code",
   "execution_count": 12,
   "metadata": {
    "collapsed": true
   },
   "outputs": [],
   "source": [
    "df_tr['ind_breed'] = df_tr.apply(lambda row: str_to_ind(row,'Breed',bread_dict), axis=1)"
   ]
  },
  {
   "cell_type": "code",
   "execution_count": 13,
   "metadata": {
    "collapsed": true
   },
   "outputs": [],
   "source": [
    "df_tr['ind_color'] = df_tr.apply(lambda row: str_to_ind(row,'Color',color_dict), axis=1)\n",
    "df_tr['ind_sex'] = df_tr.apply(lambda row: str_to_ind(row,'SexuponOutcome',sex_dict), axis=1)"
   ]
  },
  {
   "cell_type": "code",
   "execution_count": 14,
   "metadata": {
    "collapsed": false
   },
   "outputs": [
    {
     "data": {
      "text/plain": [
       "array(['Return_to_owner', 'Euthanasia', 'Adoption', 'Transfer', 'Died'], dtype=object)"
      ]
     },
     "execution_count": 14,
     "metadata": {},
     "output_type": "execute_result"
    }
   ],
   "source": [
    "df_tr['OutcomeType'].unique()"
   ]
  },
  {
   "cell_type": "code",
   "execution_count": 15,
   "metadata": {
    "collapsed": false
   },
   "outputs": [
    {
     "name": "stdout",
     "output_type": "stream",
     "text": [
      "['Spayed Female' 'Intact Male' 'Unknown' 'Neutered Male' 'Intact Female']\n"
     ]
    },
    {
     "data": {
      "text/plain": [
       "<matplotlib.axes._subplots.AxesSubplot at 0x10eba2690>"
      ]
     },
     "execution_count": 15,
     "metadata": {},
     "output_type": "execute_result"
    },
    {
     "data": {
      "image/png": "[encoded data removed]",
      "text/plain": [
       "<matplotlib.figure.Figure at 0x10eba3e90>"
      ]
     },
     "metadata": {},
     "output_type": "display_data"
    }
   ],
   "source": [
    "%matplotlib inline\n",
    "print sex_dict\n",
    "df_tr['ind_sex'].loc[(df_tr.AnimalType == 'Cat') &(df_tr['ind_outcome'] ==  2)].hist()"
   ]
  },
  {
   "cell_type": "code",
   "execution_count": 16,
   "metadata": {
    "collapsed": false
   },
   "outputs": [],
   "source": [
    "clean_df_tr = df_tr.loc[(df_tr.AnimalType == 'Cat') &  (df_tr.ind_sex >= 0 )& (df_tr.ind_breed >= 0 ) & (df_tr.ind_age >= 0 ) & (df_tr.ind_color >= 0 ) ][['ind_sex','ind_breed', 'ind_age','ind_color','ind_outcome']]"
   ]
  },
  {
   "cell_type": "code",
   "execution_count": 17,
   "metadata": {
    "collapsed": true
   },
   "outputs": [],
   "source": [
    "clean_df_tr['ind_outcome'] = clean_df_tr['ind_outcome'].apply(lambda x : 1 if x ==2 else 0)"
   ]
  },
  {
   "cell_type": "code",
   "execution_count": 18,
   "metadata": {
    "collapsed": false
   },
   "outputs": [
    {
     "data": {
      "text/plain": [
       "ind_sex        8935\n",
       "ind_breed      8935\n",
       "ind_age        8935\n",
       "ind_color      8935\n",
       "ind_outcome    8935\n",
       "dtype: int64"
      ]
     },
     "execution_count": 18,
     "metadata": {},
     "output_type": "execute_result"
    }
   ],
   "source": [
    "np.random.seed(0)\n",
    "msk = np.random.rand(len(clean_df_tr)) < 0.8\n",
    "sub_tr = clean_df_tr[msk]\n",
    "sub_tt = clean_df_tr[~msk]\n",
    "sub_tr.count()"
   ]
  },
  {
   "cell_type": "code",
   "execution_count": null,
   "metadata": {
    "collapsed": false
   },
   "outputs": [],
   "source": [
    "clf = svm.SVC(C=2,tol=1e-5,kernel='rbf')\n",
    "clf.fit(sub_tr[['ind_sex', 'ind_age','ind_breed','ind_color']], sub_tr['ind_outcome'])"
   ]
  },
  {
   "cell_type": "code",
   "execution_count": 288,
   "metadata": {
    "collapsed": false
   },
   "outputs": [],
   "source": [
    "prd_y = clf.predict(sub_tt[['ind_sex', 'ind_age','ind_breed','ind_color']])"
   ]
  },
  {
   "cell_type": "code",
   "execution_count": 289,
   "metadata": {
    "collapsed": false
   },
   "outputs": [
    {
     "data": {
      "text/plain": [
       "0.805224564619615"
      ]
     },
     "execution_count": 289,
     "metadata": {},
     "output_type": "execute_result"
    }
   ],
   "source": [
    "(prd_y == sub_tt['ind_outcome']).mean()"
   ]
  },
  {
   "cell_type": "markdown",
   "metadata": {},
   "source": [
    "# Below we try to use adaboost, an ensemble method, to predict whether the cat will be adopted."
   ]
  },
  {
   "cell_type": "code",
   "execution_count": 278,
   "metadata": {
    "collapsed": true
   },
   "outputs": [],
   "source": [
    "bdt = AdaBoostClassifier(DecisionTreeClassifier(max_depth=3), algorithm=\"SAMME.R\",n_estimators=200)"
   ]
  },
  {
   "cell_type": "code",
   "execution_count": 279,
   "metadata": {
    "collapsed": false
   },
   "outputs": [
    {
     "data": {
      "text/plain": [
       "AdaBoostClassifier(algorithm='SAMME.R',\n",
       "          base_estimator=DecisionTreeClassifier(class_weight=None, criterion='gini', max_depth=3,\n",
       "            max_features=None, max_leaf_nodes=None, min_samples_leaf=1,\n",
       "            min_samples_split=2, min_weight_fraction_leaf=0.0,\n",
       "            presort=False, random_state=None, splitter='best'),\n",
       "          learning_rate=1.0, n_estimators=200, random_state=None)"
      ]
     },
     "execution_count": 279,
     "metadata": {},
     "output_type": "execute_result"
    }
   ],
   "source": [
    "bdt.fit(sub_tr[['ind_sex', 'ind_age','ind_breed','ind_color']], sub_tr['ind_outcome'])"
   ]
  },
  {
   "cell_type": "code",
   "execution_count": 280,
   "metadata": {
    "collapsed": false
   },
   "outputs": [],
   "source": [
    "prd_y = bdt.predict(sub_tt[['ind_sex', 'ind_age','ind_breed','ind_color']])"
   ]
  },
  {
   "cell_type": "code",
   "execution_count": 281,
   "metadata": {
    "collapsed": false
   },
   "outputs": [
    {
     "data": {
      "text/plain": [
       "0.8221814848762603"
      ]
     },
     "execution_count": 281,
     "metadata": {},
     "output_type": "execute_result"
    }
   ],
   "source": [
    "(prd_y == sub_tt['ind_outcome']).mean()"
   ]
  },
  {
   "cell_type": "code",
   "execution_count": null,
   "metadata": {
    "collapsed": true
   },
   "outputs": [],
   "source": []
  }
 ],
 "metadata": {
  "kernelspec": {
   "display_name": "Python 2",
   "language": "python",
   "name": "python2"
  },
  "language_info": {
   "codemirror_mode": {
    "name": "ipython",
    "version": 2
   },
   "file_extension": ".py",
   "mimetype": "text/x-python",
   "name": "python",
   "nbconvert_exporter": "python",
   "pygments_lexer": "ipython2",
   "version": "2.7.11"
  }
 },
 "nbformat": 4,
 "nbformat_minor": 0
}
